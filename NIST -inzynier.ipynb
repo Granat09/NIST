{
 "cells": [
  {
   "cell_type": "code",
   "execution_count": 1,
   "metadata": {},
   "outputs": [
    {
     "name": "stderr",
     "output_type": "stream",
     "text": [
      "Using TensorFlow backend.\n"
     ]
    },
    {
     "name": "stdout",
     "output_type": "stream",
     "text": [
      "Requirement already satisfied: livelossplot in c:\\users\\maja\\anaconda3\\lib\\site-packages (0.4.1)\n",
      "Requirement already satisfied: notebook in c:\\users\\maja\\anaconda3\\lib\\site-packages (from livelossplot) (6.0.1)\n",
      "Requirement already satisfied: matplotlib in c:\\users\\maja\\anaconda3\\lib\\site-packages (from livelossplot) (3.1.1)\n",
      "Requirement already satisfied: traitlets>=4.2.1 in c:\\users\\maja\\anaconda3\\lib\\site-packages (from notebook->livelossplot) (4.3.3)\n",
      "Requirement already satisfied: nbformat in c:\\users\\maja\\anaconda3\\lib\\site-packages (from notebook->livelossplot) (4.4.0)\n",
      "Requirement already satisfied: pyzmq>=17 in c:\\users\\maja\\anaconda3\\lib\\site-packages (from notebook->livelossplot) (18.1.0)\n",
      "Requirement already satisfied: ipykernel in c:\\users\\maja\\anaconda3\\lib\\site-packages (from notebook->livelossplot) (5.1.2)\n",
      "Requirement already satisfied: jinja2 in c:\\users\\maja\\anaconda3\\lib\\site-packages (from notebook->livelossplot) (2.10.3)\n",
      "Requirement already satisfied: nbconvert in c:\\users\\maja\\anaconda3\\lib\\site-packages (from notebook->livelossplot) (5.6.0)\n",
      "Requirement already satisfied: terminado>=0.8.1 in c:\\users\\maja\\anaconda3\\lib\\site-packages (from notebook->livelossplot) (0.8.2)\n",
      "Requirement already satisfied: Send2Trash in c:\\users\\maja\\anaconda3\\lib\\site-packages (from notebook->livelossplot) (1.5.0)\n",
      "Requirement already satisfied: ipython-genutils in c:\\users\\maja\\anaconda3\\lib\\site-packages (from notebook->livelossplot) (0.2.0)\n",
      "Requirement already satisfied: jupyter-client>=5.3.1 in c:\\users\\maja\\anaconda3\\lib\\site-packages (from notebook->livelossplot) (5.3.3)\n",
      "Requirement already satisfied: tornado>=5.0 in c:\\users\\maja\\anaconda3\\lib\\site-packages (from notebook->livelossplot) (6.0.3)\n",
      "Requirement already satisfied: jupyter-core>=4.4.0 in c:\\users\\maja\\anaconda3\\lib\\site-packages (from notebook->livelossplot) (4.5.0)\n",
      "Requirement already satisfied: prometheus-client in c:\\users\\maja\\anaconda3\\lib\\site-packages (from notebook->livelossplot) (0.7.1)\n",
      "Requirement already satisfied: cycler>=0.10 in c:\\users\\maja\\anaconda3\\lib\\site-packages (from matplotlib->livelossplot) (0.10.0)\n",
      "Requirement already satisfied: kiwisolver>=1.0.1 in c:\\users\\maja\\anaconda3\\lib\\site-packages (from matplotlib->livelossplot) (1.1.0)\n",
      "Requirement already satisfied: pyparsing!=2.0.4,!=2.1.2,!=2.1.6,>=2.0.1 in c:\\users\\maja\\anaconda3\\lib\\site-packages (from matplotlib->livelossplot) (2.4.2)\n",
      "Requirement already satisfied: python-dateutil>=2.1 in c:\\users\\maja\\anaconda3\\lib\\site-packages (from matplotlib->livelossplot) (2.8.0)\n",
      "Requirement already satisfied: numpy>=1.11 in c:\\users\\maja\\anaconda3\\lib\\site-packages (from matplotlib->livelossplot) (1.16.5)\n",
      "Requirement already satisfied: decorator in c:\\users\\maja\\anaconda3\\lib\\site-packages (from traitlets>=4.2.1->notebook->livelossplot) (4.4.0)\n",
      "Requirement already satisfied: six in c:\\users\\maja\\anaconda3\\lib\\site-packages (from traitlets>=4.2.1->notebook->livelossplot) (1.12.0)\n",
      "Requirement already satisfied: jsonschema!=2.5.0,>=2.4 in c:\\users\\maja\\anaconda3\\lib\\site-packages (from nbformat->notebook->livelossplot) (3.0.2)\n",
      "Requirement already satisfied: ipython>=5.0.0 in c:\\users\\maja\\anaconda3\\lib\\site-packages (from ipykernel->notebook->livelossplot) (7.8.0)\n",
      "Requirement already satisfied: MarkupSafe>=0.23 in c:\\users\\maja\\anaconda3\\lib\\site-packages (from jinja2->notebook->livelossplot) (1.1.1)\n",
      "Requirement already satisfied: mistune<2,>=0.8.1 in c:\\users\\maja\\anaconda3\\lib\\site-packages (from nbconvert->notebook->livelossplot) (0.8.4)\n",
      "Requirement already satisfied: testpath in c:\\users\\maja\\anaconda3\\lib\\site-packages (from nbconvert->notebook->livelossplot) (0.4.2)\n",
      "Requirement already satisfied: pygments in c:\\users\\maja\\anaconda3\\lib\\site-packages (from nbconvert->notebook->livelossplot) (2.4.2)\n",
      "Requirement already satisfied: defusedxml in c:\\users\\maja\\anaconda3\\lib\\site-packages (from nbconvert->notebook->livelossplot) (0.6.0)\n",
      "Requirement already satisfied: pandocfilters>=1.4.1 in c:\\users\\maja\\anaconda3\\lib\\site-packages (from nbconvert->notebook->livelossplot) (1.4.2)\n",
      "Requirement already satisfied: bleach in c:\\users\\maja\\anaconda3\\lib\\site-packages (from nbconvert->notebook->livelossplot) (3.1.0)\n",
      "Requirement already satisfied: entrypoints>=0.2.2 in c:\\users\\maja\\anaconda3\\lib\\site-packages (from nbconvert->notebook->livelossplot) (0.3)\n",
      "Requirement already satisfied: pywin32>=1.0; sys_platform == \"win32\" in c:\\users\\maja\\anaconda3\\lib\\site-packages (from jupyter-client>=5.3.1->notebook->livelossplot) (223)\n",
      "Requirement already satisfied: setuptools in c:\\users\\maja\\anaconda3\\lib\\site-packages (from kiwisolver>=1.0.1->matplotlib->livelossplot) (41.4.0)\n",
      "Requirement already satisfied: attrs>=17.4.0 in c:\\users\\maja\\anaconda3\\lib\\site-packages (from jsonschema!=2.5.0,>=2.4->nbformat->notebook->livelossplot) (19.2.0)\n",
      "Requirement already satisfied: pyrsistent>=0.14.0 in c:\\users\\maja\\anaconda3\\lib\\site-packages (from jsonschema!=2.5.0,>=2.4->nbformat->notebook->livelossplot) (0.15.4)\n",
      "Requirement already satisfied: backcall in c:\\users\\maja\\anaconda3\\lib\\site-packages (from ipython>=5.0.0->ipykernel->notebook->livelossplot) (0.1.0)\n",
      "Requirement already satisfied: colorama; sys_platform == \"win32\" in c:\\users\\maja\\anaconda3\\lib\\site-packages (from ipython>=5.0.0->ipykernel->notebook->livelossplot) (0.4.1)\n",
      "Requirement already satisfied: prompt-toolkit<2.1.0,>=2.0.0 in c:\\users\\maja\\anaconda3\\lib\\site-packages (from ipython>=5.0.0->ipykernel->notebook->livelossplot) (2.0.10)\n",
      "Requirement already satisfied: pickleshare in c:\\users\\maja\\anaconda3\\lib\\site-packages (from ipython>=5.0.0->ipykernel->notebook->livelossplot) (0.7.5)\n",
      "Requirement already satisfied: jedi>=0.10 in c:\\users\\maja\\anaconda3\\lib\\site-packages (from ipython>=5.0.0->ipykernel->notebook->livelossplot) (0.15.1)\n",
      "Requirement already satisfied: webencodings in c:\\users\\maja\\anaconda3\\lib\\site-packages (from bleach->nbconvert->notebook->livelossplot) (0.5.1)\n",
      "Requirement already satisfied: wcwidth in c:\\users\\maja\\anaconda3\\lib\\site-packages (from prompt-toolkit<2.1.0,>=2.0.0->ipython>=5.0.0->ipykernel->notebook->livelossplot) (0.1.7)\n",
      "Requirement already satisfied: parso>=0.5.0 in c:\\users\\maja\\anaconda3\\lib\\site-packages (from jedi>=0.10->ipython>=5.0.0->ipykernel->notebook->livelossplot) (0.5.1)\n"
     ]
    }
   ],
   "source": [
    "# import standardowych biblotek: Numpy, Pandas, Matplotlib (z magic function)\n",
    "import numpy as np\n",
    "import pandas as pd\n",
    "import matplotlib.pyplot as plt\n",
    "%matplotlib inline\n",
    "#np.random.seed(0) \n",
    "''' jeśli w generatorze liczb losowych ustawimy ziarno na daną wartośći,\n",
    "będzie wtedy losował takie same liczby po kolei za każdym razem '''\n",
    "\n",
    "# import bibliiotek kerasowych\n",
    "from keras.datasets import mnist # zestaw obrazów MNIST\n",
    "from keras.models import Sequential # biblioteka do budowy warstwowej sieci neuronowej, jaką jest CNN\n",
    "# warstwy, z których będzie składała się CNN:\n",
    "from keras.layers import Dense, Dropout, Flatten, Conv2D, MaxPool2D \n",
    "from keras.preprocessing import image # biblioteka do preprocessingu obrazów\n",
    "from keras.utils import to_categorical # biblioteka do zamiany typu danych na kategorialne\n",
    "from sklearn.model_selection import train_test_split\n",
    "\n",
    "# instalacja i import bibliotek do oceny dokładności rozwiązania\n",
    "!pip install livelossplot\n",
    "from livelossplot import PlotLossesKeras\n",
    "from livelossplot.keras import PlotLossesCallback\n",
    "\n",
    "\n",
    "# instalacja bibliotek do wczytania obrazów\n",
    "import requests\n",
    "from io import BytesIO\n",
    "from PIL import Image"
   ]
  },
  {
   "cell_type": "code",
   "execution_count": 2,
   "metadata": {},
   "outputs": [],
   "source": [
    "X = np.load(\"nist_images_28x28.npy\")\n",
    "y = np.load(\"nist_labels_28x28vol2.npy\")"
   ]
  },
  {
   "cell_type": "code",
   "execution_count": 3,
   "metadata": {},
   "outputs": [],
   "source": [
    "X_train, X_test, y_train, y_test = train_test_split(X, y, test_size=0.2, random_state=1)"
   ]
  },
  {
   "cell_type": "code",
   "execution_count": 4,
   "metadata": {},
   "outputs": [
    {
     "name": "stdout",
     "output_type": "stream",
     "text": [
      "X_train.shape: (154593, 28, 28)\n",
      "y_train.shape: (154593,)\n"
     ]
    }
   ],
   "source": [
    "print('X_train.shape:', X_train.shape)\n",
    "print('y_train.shape:',y_train.shape)"
   ]
  },
  {
   "cell_type": "code",
   "execution_count": 5,
   "metadata": {},
   "outputs": [
    {
     "name": "stdout",
     "output_type": "stream",
     "text": [
      "X_train.shape: (154593, 28, 28)  X_test.shape: (38649, 28, 28)\n",
      "y_train.shape: (154593,)  y_test.shape: (38649,)\n"
     ]
    }
   ],
   "source": [
    "print('X_train.shape:',X_train.shape, ' X_test.shape:',X_test.shape) # zaimportowano 60 000 zdjęć  \n",
    "#o rozmiarze 28x28 pix do zbioru treningowego i 10 000 zdjęć do zbioru testowego\n",
    "print('y_train.shape:',y_train.shape, ' y_test.shape:',y_test.shape)"
   ]
  },
  {
   "cell_type": "code",
   "execution_count": 6,
   "metadata": {},
   "outputs": [
    {
     "name": "stdout",
     "output_type": "stream",
     "text": [
      "img_rows: 28 img_cols: 28\n"
     ]
    }
   ],
   "source": [
    "img_rows, img_cols = X_train.shape[1],X_train.shape[2]\n",
    "print('img_rows:',img_rows, 'img_cols:',img_cols)"
   ]
  },
  {
   "cell_type": "code",
   "execution_count": 7,
   "metadata": {},
   "outputs": [
    {
     "name": "stdout",
     "output_type": "stream",
     "text": [
      "X_train.shape: (154593, 28, 28, 1)  X_test.shape: (38649, 28, 28, 1)\n"
     ]
    }
   ],
   "source": [
    "# Zmiana wymiarów macierzy X - reshape i nadpisanie wyników\n",
    "X_train = X_train.reshape(-1, img_rows, img_cols, 1 ) #-1: przepisuje dany nr zdjęcia, 28x28 są stałe, \n",
    "#można je przepisać, 1: dodany wymiar\n",
    "X_test = X_test.reshape(-1, img_rows, img_cols, 1 )\n",
    "\n",
    "input_shape = (img_rows, img_cols, 1)\n",
    "\n",
    "print('X_train.shape:',X_train.shape, ' X_test.shape:',X_test.shape)"
   ]
  },
  {
   "cell_type": "code",
   "execution_count": 8,
   "metadata": {},
   "outputs": [],
   "source": [
    "if np.max (X_train) > 1: \n",
    "  X_train = X_train / 255\n",
    "  \n",
    "if np.max (X_test) > 1: \n",
    "  X_test = X_test / 255  "
   ]
  },
  {
   "cell_type": "code",
   "execution_count": 9,
   "metadata": {},
   "outputs": [],
   "source": [
    "# realizacja pętli: jeżeli długość wektora y jest równa 1 to:  skategoryzuj wektory wg numeru klasy\n",
    "if len(y_train.shape)== 1:\n",
    "    num_classes = len(set(y_train))\n",
    "    y_train = to_categorical(y_train, num_classes)\n",
    "    y_test = to_categorical(y_test, num_classes)"
   ]
  },
  {
   "cell_type": "code",
   "execution_count": 10,
   "metadata": {},
   "outputs": [
    {
     "name": "stdout",
     "output_type": "stream",
     "text": [
      "y_train.shape: (154593, 62) y_test.shape: (38649, 62)\n",
      "[0. 0. 0. 0. 0. 1. 0. 0. 0. 0. 0. 0. 0. 0. 0. 0. 0. 0. 0. 0. 0. 0. 0. 0.\n",
      " 0. 0. 0. 0. 0. 0. 0. 0. 0. 0. 0. 0. 0. 0. 0. 0. 0. 0. 0. 0. 0. 0. 0. 0.\n",
      " 0. 0. 0. 0. 0. 0. 0. 0. 0. 0. 0. 0. 0. 0.]\n"
     ]
    }
   ],
   "source": [
    "print('y_train.shape:',y_train.shape, 'y_test.shape:',y_test.shape)\n",
    "print(y_train[5])"
   ]
  },
  {
   "cell_type": "markdown",
   "metadata": {},
   "source": [
    "### Badanie struktur sieci"
   ]
  },
  {
   "cell_type": "code",
   "execution_count": null,
   "metadata": {},
   "outputs": [],
   "source": [
    "# pierwsza architektura sieci\n",
    "def arch_01():\n",
    "    \n",
    "    return Sequential([\n",
    "        Conv2D(16, kernel_size=(3, 3), activation='relu', input_shape=input_shape),\n",
    "        MaxPool2D(pool_size=(2, 2)),\n",
    "        \n",
    "        Conv2D(32, kernel_size=(3, 3), activation='relu'),\n",
    "        MaxPool2D(pool_size=(2, 2)),\n",
    "        \n",
    "        Flatten(), # spłaszczanie danych, aby połączyć warstwy konwolucyjne z fully connected layers\n",
    "        \n",
    "        Dense(512, activation='relu'),\n",
    "        Dense(num_classes, activation='softmax')]) \n",
    "  \n",
    "model = arch_01()\n",
    "model.compile(loss='categorical_crossentropy',optimizer='adam', metrics=['accuracy'])\n",
    "model.summary()"
   ]
  },
  {
   "cell_type": "code",
   "execution_count": null,
   "metadata": {},
   "outputs": [],
   "source": [
    "# uruchomienie modelu\n",
    "model.fit(\n",
    "    X_train, y_train,\n",
    "    batch_size=128,\n",
    "    epochs=20,\n",
    "    validation_data=(X_test,y_test),\n",
    "    callbacks=[PlotLossesCallback()]\n",
    ")"
   ]
  },
  {
   "cell_type": "code",
   "execution_count": null,
   "metadata": {},
   "outputs": [],
   "source": [
    "# druga architektura sieci\n",
    "def arch02():\n",
    "    return Sequential([\n",
    "        \n",
    "        Conv2D(filters = 256, kernel_size = (3,3), activation = 'relu', padding = 'same', input_shape = input_shape),\n",
    "        MaxPool2D(pool_size = (2, 2)),\n",
    "        \n",
    "        Conv2D(filters =512, kernel_size = (3,3), activation = 'relu'),\n",
    "        MaxPool2D(pool_size = (2, 2)),\n",
    "        \n",
    "        Conv2D(filters = 256, kernel_size = (3,3), activation = 'relu'),\n",
    "        MaxPool2D(pool_size = (2, 2)),\n",
    "               \n",
    "        Dropout(0.2),\n",
    "        Flatten(),\n",
    "       \n",
    "        Dense(4096, activation='relu'),\n",
    "        Dense(2048, activation='relu'),\n",
    "        Dense(num_classes, activation='softmax')])\n",
    "\n",
    "\n",
    "model = arch_02()\n",
    "model.compile(loss='categorical_crossentropy',optimizer='adam', metrics=['accuracy'])\n",
    "model.summary()"
   ]
  },
  {
   "cell_type": "code",
   "execution_count": null,
   "metadata": {},
   "outputs": [],
   "source": [
    "#uruchomienie modelu\n",
    "model.fit(\n",
    "    X_train, y_train,\n",
    "    batch_size=128,\n",
    "    epochs=10,\n",
    "    validation_data=(X_test,y_test),\n",
    "    callbacks=[PlotLossesCallback()]\n",
    ")"
   ]
  },
  {
   "cell_type": "code",
   "execution_count": null,
   "metadata": {},
   "outputs": [],
   "source": [
    " #trzecia architektura sieci\n",
    "def arch_03():\n",
    "    return Sequential([\n",
    "        Conv2D(16, kernel_size=(3, 3), activation='relu', input_shape=input_shape),\n",
    "        MaxPool2D(pool_size=(2, 2)),\n",
    "\n",
    "        Conv2D(32, kernel_size=(3, 3), activation='relu'),\n",
    "        MaxPool2D(pool_size=(2, 2)),\n",
    "        \n",
    "        Conv2D(64, kernel_size=(3, 3), activation='relu'),\n",
    "        MaxPool2D(pool_size=(2, 2)),\n",
    "        \n",
    "        Flatten(), # spłaszczanie danych, aby połączyć warstwy konwolucyjne z fully connected layers\n",
    "        \n",
    "        Dense(1024, activation='relu'),\n",
    "        Dropout(0.5),\n",
    "        Dense(num_classes, activation='softmax')]) \n",
    "  \n",
    "model = arch_03()\n",
    "model.compile(loss='categorical_crossentropy',optimizer='adam', metrics=['accuracy'])\n",
    "model.summary()"
   ]
  },
  {
   "cell_type": "code",
   "execution_count": null,
   "metadata": {},
   "outputs": [],
   "source": [
    "# uruchomienie modelu\n",
    "model.fit(\n",
    "    X_train, y_train,\n",
    "    batch_size=128,\n",
    "    epochs=20,\n",
    "    validation_data=(X_test,y_test),\n",
    "    callbacks=[PlotLossesCallback()]\n",
    ")"
   ]
  },
  {
   "cell_type": "code",
   "execution_count": 11,
   "metadata": {},
   "outputs": [
    {
     "name": "stdout",
     "output_type": "stream",
     "text": [
      "WARNING:tensorflow:From C:\\Users\\Maja\\Anaconda3\\lib\\site-packages\\keras\\backend\\tensorflow_backend.py:74: The name tf.get_default_graph is deprecated. Please use tf.compat.v1.get_default_graph instead.\n",
      "\n",
      "WARNING:tensorflow:From C:\\Users\\Maja\\Anaconda3\\lib\\site-packages\\keras\\backend\\tensorflow_backend.py:517: The name tf.placeholder is deprecated. Please use tf.compat.v1.placeholder instead.\n",
      "\n",
      "WARNING:tensorflow:From C:\\Users\\Maja\\Anaconda3\\lib\\site-packages\\keras\\backend\\tensorflow_backend.py:4138: The name tf.random_uniform is deprecated. Please use tf.random.uniform instead.\n",
      "\n",
      "WARNING:tensorflow:From C:\\Users\\Maja\\Anaconda3\\lib\\site-packages\\keras\\backend\\tensorflow_backend.py:3976: The name tf.nn.max_pool is deprecated. Please use tf.nn.max_pool2d instead.\n",
      "\n",
      "WARNING:tensorflow:From C:\\Users\\Maja\\Anaconda3\\lib\\site-packages\\keras\\backend\\tensorflow_backend.py:133: The name tf.placeholder_with_default is deprecated. Please use tf.compat.v1.placeholder_with_default instead.\n",
      "\n",
      "WARNING:tensorflow:From C:\\Users\\Maja\\Anaconda3\\lib\\site-packages\\keras\\backend\\tensorflow_backend.py:3445: calling dropout (from tensorflow.python.ops.nn_ops) with keep_prob is deprecated and will be removed in a future version.\n",
      "Instructions for updating:\n",
      "Please use `rate` instead of `keep_prob`. Rate should be set to `rate = 1 - keep_prob`.\n",
      "WARNING:tensorflow:From C:\\Users\\Maja\\Anaconda3\\lib\\site-packages\\keras\\optimizers.py:790: The name tf.train.Optimizer is deprecated. Please use tf.compat.v1.train.Optimizer instead.\n",
      "\n",
      "WARNING:tensorflow:From C:\\Users\\Maja\\Anaconda3\\lib\\site-packages\\keras\\backend\\tensorflow_backend.py:3295: The name tf.log is deprecated. Please use tf.math.log instead.\n",
      "\n",
      "_________________________________________________________________\n",
      "Layer (type)                 Output Shape              Param #   \n",
      "=================================================================\n",
      "conv2d_1 (Conv2D)            (None, 28, 28, 64)        640       \n",
      "_________________________________________________________________\n",
      "max_pooling2d_1 (MaxPooling2 (None, 14, 14, 64)        0         \n",
      "_________________________________________________________________\n",
      "dropout_1 (Dropout)          (None, 14, 14, 64)        0         \n",
      "_________________________________________________________________\n",
      "conv2d_2 (Conv2D)            (None, 12, 12, 128)       73856     \n",
      "_________________________________________________________________\n",
      "max_pooling2d_2 (MaxPooling2 (None, 6, 6, 128)         0         \n",
      "_________________________________________________________________\n",
      "dropout_2 (Dropout)          (None, 6, 6, 128)         0         \n",
      "_________________________________________________________________\n",
      "conv2d_3 (Conv2D)            (None, 4, 4, 256)         295168    \n",
      "_________________________________________________________________\n",
      "max_pooling2d_3 (MaxPooling2 (None, 2, 2, 256)         0         \n",
      "_________________________________________________________________\n",
      "flatten_1 (Flatten)          (None, 1024)              0         \n",
      "_________________________________________________________________\n",
      "dense_1 (Dense)              (None, 512)               524800    \n",
      "_________________________________________________________________\n",
      "dropout_3 (Dropout)          (None, 512)               0         \n",
      "_________________________________________________________________\n",
      "dense_2 (Dense)              (None, 62)                31806     \n",
      "=================================================================\n",
      "Total params: 926,270\n",
      "Trainable params: 926,270\n",
      "Non-trainable params: 0\n",
      "_________________________________________________________________\n"
     ]
    }
   ],
   "source": [
    "def arch_04():  #optymalizator SGD\n",
    " \n",
    "  return Sequential([\n",
    "        Conv2D(64, kernel_size=(3, 3), activation='relu',padding='same', input_shape=input_shape),\n",
    "        MaxPool2D(pool_size=(2, 2)),\n",
    "        Dropout(0.25), \n",
    "        \n",
    "        Conv2D(128, kernel_size=(3, 3), activation='relu'),\n",
    "        MaxPool2D(pool_size=(2, 2)),\n",
    "        Dropout(0.25),\n",
    "        \n",
    "        Conv2D(256, kernel_size=(3, 3), activation='relu'),\n",
    "        MaxPool2D(pool_size=(2, 2)),\n",
    "\n",
    "        Flatten(), # spłaszczanie danych, aby połączyć warstwy konwolucyjne z fully connected layers\n",
    "        \n",
    "        Dense(512, activation='relu'),\n",
    "        Dropout(0.5),\n",
    "        Dense(num_classes, activation='softmax')]) \n",
    "\n",
    "model = arch_04()\n",
    "model.compile(loss='categorical_crossentropy',optimizer='adam', metrics=['accuracy'])\n",
    "model.summary()"
   ]
  },
  {
   "cell_type": "code",
   "execution_count": 12,
   "metadata": {
    "scrolled": true
   },
   "outputs": [
    {
     "data": {
      "image/png": "[encoded data removed]",
      "text/plain": [
       "<Figure size 864x576 with 2 Axes>"
      ]
     },
     "metadata": {
      "needs_background": "light"
     },
     "output_type": "display_data"
    },
    {
     "name": "stdout",
     "output_type": "stream",
     "text": [
      "Log-loss (cost function):\n",
      "training   (min:    0.432, max:    1.009, cur:    0.432)\n",
      "validation (min:    0.370, max:    0.457, cur:    0.370)\n",
      "\n",
      "Accuracy:\n",
      "training   (min:    0.711, max:    0.853, cur:    0.853)\n",
      "validation (min:    0.848, max:    0.872, cur:    0.872)\n",
      "Epoch 5/9\n",
      " 58624/154593 [==========>...................] - ETA: 3:31 - loss: 0.4078 - acc: 0.8589"
     ]
    },
    {
     "ename": "KeyboardInterrupt",
     "evalue": "",
     "output_type": "error",
     "traceback": [
      "\u001b[1;31m---------------------------------------------------------------------------\u001b[0m",
      "\u001b[1;31mKeyboardInterrupt\u001b[0m                         Traceback (most recent call last)",
      "\u001b[1;32m<ipython-input-12-5995f853e9cf>\u001b[0m in \u001b[0;36m<module>\u001b[1;34m\u001b[0m\n\u001b[0;32m      5\u001b[0m     \u001b[0mepochs\u001b[0m\u001b[1;33m=\u001b[0m\u001b[1;36m9\u001b[0m\u001b[1;33m,\u001b[0m\u001b[1;33m\u001b[0m\u001b[1;33m\u001b[0m\u001b[0m\n\u001b[0;32m      6\u001b[0m     \u001b[0mvalidation_data\u001b[0m\u001b[1;33m=\u001b[0m\u001b[1;33m(\u001b[0m\u001b[0mX_test\u001b[0m\u001b[1;33m,\u001b[0m\u001b[0my_test\u001b[0m\u001b[1;33m)\u001b[0m\u001b[1;33m,\u001b[0m\u001b[1;33m\u001b[0m\u001b[1;33m\u001b[0m\u001b[0m\n\u001b[1;32m----> 7\u001b[1;33m     \u001b[0mcallbacks\u001b[0m\u001b[1;33m=\u001b[0m\u001b[1;33m[\u001b[0m\u001b[0mPlotLossesCallback\u001b[0m\u001b[1;33m(\u001b[0m\u001b[1;33m)\u001b[0m\u001b[1;33m]\u001b[0m\u001b[1;33m\u001b[0m\u001b[1;33m\u001b[0m\u001b[0m\n\u001b[0m\u001b[0;32m      8\u001b[0m )\n",
      "\u001b[1;32m~\\Anaconda3\\lib\\site-packages\\keras\\engine\\training.py\u001b[0m in \u001b[0;36mfit\u001b[1;34m(self, x, y, batch_size, epochs, verbose, callbacks, validation_split, validation_data, shuffle, class_weight, sample_weight, initial_epoch, steps_per_epoch, validation_steps, **kwargs)\u001b[0m\n\u001b[0;32m   1037\u001b[0m                                         \u001b[0minitial_epoch\u001b[0m\u001b[1;33m=\u001b[0m\u001b[0minitial_epoch\u001b[0m\u001b[1;33m,\u001b[0m\u001b[1;33m\u001b[0m\u001b[1;33m\u001b[0m\u001b[0m\n\u001b[0;32m   1038\u001b[0m                                         \u001b[0msteps_per_epoch\u001b[0m\u001b[1;33m=\u001b[0m\u001b[0msteps_per_epoch\u001b[0m\u001b[1;33m,\u001b[0m\u001b[1;33m\u001b[0m\u001b[1;33m\u001b[0m\u001b[0m\n\u001b[1;32m-> 1039\u001b[1;33m                                         validation_steps=validation_steps)\n\u001b[0m\u001b[0;32m   1040\u001b[0m \u001b[1;33m\u001b[0m\u001b[0m\n\u001b[0;32m   1041\u001b[0m     def evaluate(self, x=None, y=None,\n",
      "\u001b[1;32m~\\Anaconda3\\lib\\site-packages\\keras\\engine\\training_arrays.py\u001b[0m in \u001b[0;36mfit_loop\u001b[1;34m(model, f, ins, out_labels, batch_size, epochs, verbose, callbacks, val_f, val_ins, shuffle, callback_metrics, initial_epoch, steps_per_epoch, validation_steps)\u001b[0m\n\u001b[0;32m    197\u001b[0m                     \u001b[0mins_batch\u001b[0m\u001b[1;33m[\u001b[0m\u001b[0mi\u001b[0m\u001b[1;33m]\u001b[0m \u001b[1;33m=\u001b[0m \u001b[0mins_batch\u001b[0m\u001b[1;33m[\u001b[0m\u001b[0mi\u001b[0m\u001b[1;33m]\u001b[0m\u001b[1;33m.\u001b[0m\u001b[0mtoarray\u001b[0m\u001b[1;33m(\u001b[0m\u001b[1;33m)\u001b[0m\u001b[1;33m\u001b[0m\u001b[1;33m\u001b[0m\u001b[0m\n\u001b[0;32m    198\u001b[0m \u001b[1;33m\u001b[0m\u001b[0m\n\u001b[1;32m--> 199\u001b[1;33m                 \u001b[0mouts\u001b[0m \u001b[1;33m=\u001b[0m \u001b[0mf\u001b[0m\u001b[1;33m(\u001b[0m\u001b[0mins_batch\u001b[0m\u001b[1;33m)\u001b[0m\u001b[1;33m\u001b[0m\u001b[1;33m\u001b[0m\u001b[0m\n\u001b[0m\u001b[0;32m    200\u001b[0m                 \u001b[0mouts\u001b[0m \u001b[1;33m=\u001b[0m \u001b[0mto_list\u001b[0m\u001b[1;33m(\u001b[0m\u001b[0mouts\u001b[0m\u001b[1;33m)\u001b[0m\u001b[1;33m\u001b[0m\u001b[1;33m\u001b[0m\u001b[0m\n\u001b[0;32m    201\u001b[0m                 \u001b[1;32mfor\u001b[0m \u001b[0ml\u001b[0m\u001b[1;33m,\u001b[0m \u001b[0mo\u001b[0m \u001b[1;32min\u001b[0m \u001b[0mzip\u001b[0m\u001b[1;33m(\u001b[0m\u001b[0mout_labels\u001b[0m\u001b[1;33m,\u001b[0m \u001b[0mouts\u001b[0m\u001b[1;33m)\u001b[0m\u001b[1;33m:\u001b[0m\u001b[1;33m\u001b[0m\u001b[1;33m\u001b[0m\u001b[0m\n",
      "\u001b[1;32m~\\Anaconda3\\lib\\site-packages\\keras\\backend\\tensorflow_backend.py\u001b[0m in \u001b[0;36m__call__\u001b[1;34m(self, inputs)\u001b[0m\n\u001b[0;32m   2713\u001b[0m                 \u001b[1;32mreturn\u001b[0m \u001b[0mself\u001b[0m\u001b[1;33m.\u001b[0m\u001b[0m_legacy_call\u001b[0m\u001b[1;33m(\u001b[0m\u001b[0minputs\u001b[0m\u001b[1;33m)\u001b[0m\u001b[1;33m\u001b[0m\u001b[1;33m\u001b[0m\u001b[0m\n\u001b[0;32m   2714\u001b[0m \u001b[1;33m\u001b[0m\u001b[0m\n\u001b[1;32m-> 2715\u001b[1;33m             \u001b[1;32mreturn\u001b[0m \u001b[0mself\u001b[0m\u001b[1;33m.\u001b[0m\u001b[0m_call\u001b[0m\u001b[1;33m(\u001b[0m\u001b[0minputs\u001b[0m\u001b[1;33m)\u001b[0m\u001b[1;33m\u001b[0m\u001b[1;33m\u001b[0m\u001b[0m\n\u001b[0m\u001b[0;32m   2716\u001b[0m         \u001b[1;32melse\u001b[0m\u001b[1;33m:\u001b[0m\u001b[1;33m\u001b[0m\u001b[1;33m\u001b[0m\u001b[0m\n\u001b[0;32m   2717\u001b[0m             \u001b[1;32mif\u001b[0m \u001b[0mpy_any\u001b[0m\u001b[1;33m(\u001b[0m\u001b[0mis_tensor\u001b[0m\u001b[1;33m(\u001b[0m\u001b[0mx\u001b[0m\u001b[1;33m)\u001b[0m \u001b[1;32mfor\u001b[0m \u001b[0mx\u001b[0m \u001b[1;32min\u001b[0m \u001b[0minputs\u001b[0m\u001b[1;33m)\u001b[0m\u001b[1;33m:\u001b[0m\u001b[1;33m\u001b[0m\u001b[1;33m\u001b[0m\u001b[0m\n",
      "\u001b[1;32m~\\Anaconda3\\lib\\site-packages\\keras\\backend\\tensorflow_backend.py\u001b[0m in \u001b[0;36m_call\u001b[1;34m(self, inputs)\u001b[0m\n\u001b[0;32m   2673\u001b[0m             \u001b[0mfetched\u001b[0m \u001b[1;33m=\u001b[0m \u001b[0mself\u001b[0m\u001b[1;33m.\u001b[0m\u001b[0m_callable_fn\u001b[0m\u001b[1;33m(\u001b[0m\u001b[1;33m*\u001b[0m\u001b[0marray_vals\u001b[0m\u001b[1;33m,\u001b[0m \u001b[0mrun_metadata\u001b[0m\u001b[1;33m=\u001b[0m\u001b[0mself\u001b[0m\u001b[1;33m.\u001b[0m\u001b[0mrun_metadata\u001b[0m\u001b[1;33m)\u001b[0m\u001b[1;33m\u001b[0m\u001b[1;33m\u001b[0m\u001b[0m\n\u001b[0;32m   2674\u001b[0m         \u001b[1;32melse\u001b[0m\u001b[1;33m:\u001b[0m\u001b[1;33m\u001b[0m\u001b[1;33m\u001b[0m\u001b[0m\n\u001b[1;32m-> 2675\u001b[1;33m             \u001b[0mfetched\u001b[0m \u001b[1;33m=\u001b[0m \u001b[0mself\u001b[0m\u001b[1;33m.\u001b[0m\u001b[0m_callable_fn\u001b[0m\u001b[1;33m(\u001b[0m\u001b[1;33m*\u001b[0m\u001b[0marray_vals\u001b[0m\u001b[1;33m)\u001b[0m\u001b[1;33m\u001b[0m\u001b[1;33m\u001b[0m\u001b[0m\n\u001b[0m\u001b[0;32m   2676\u001b[0m         \u001b[1;32mreturn\u001b[0m \u001b[0mfetched\u001b[0m\u001b[1;33m[\u001b[0m\u001b[1;33m:\u001b[0m\u001b[0mlen\u001b[0m\u001b[1;33m(\u001b[0m\u001b[0mself\u001b[0m\u001b[1;33m.\u001b[0m\u001b[0moutputs\u001b[0m\u001b[1;33m)\u001b[0m\u001b[1;33m]\u001b[0m\u001b[1;33m\u001b[0m\u001b[1;33m\u001b[0m\u001b[0m\n\u001b[0;32m   2677\u001b[0m \u001b[1;33m\u001b[0m\u001b[0m\n",
      "\u001b[1;32m~\\Anaconda3\\lib\\site-packages\\tensorflow_core\\python\\client\\session.py\u001b[0m in \u001b[0;36m__call__\u001b[1;34m(self, *args, **kwargs)\u001b[0m\n\u001b[0;32m   1470\u001b[0m         ret = tf_session.TF_SessionRunCallable(self._session._session,\n\u001b[0;32m   1471\u001b[0m                                                \u001b[0mself\u001b[0m\u001b[1;33m.\u001b[0m\u001b[0m_handle\u001b[0m\u001b[1;33m,\u001b[0m \u001b[0margs\u001b[0m\u001b[1;33m,\u001b[0m\u001b[1;33m\u001b[0m\u001b[1;33m\u001b[0m\u001b[0m\n\u001b[1;32m-> 1472\u001b[1;33m                                                run_metadata_ptr)\n\u001b[0m\u001b[0;32m   1473\u001b[0m         \u001b[1;32mif\u001b[0m \u001b[0mrun_metadata\u001b[0m\u001b[1;33m:\u001b[0m\u001b[1;33m\u001b[0m\u001b[1;33m\u001b[0m\u001b[0m\n\u001b[0;32m   1474\u001b[0m           \u001b[0mproto_data\u001b[0m \u001b[1;33m=\u001b[0m \u001b[0mtf_session\u001b[0m\u001b[1;33m.\u001b[0m\u001b[0mTF_GetBuffer\u001b[0m\u001b[1;33m(\u001b[0m\u001b[0mrun_metadata_ptr\u001b[0m\u001b[1;33m)\u001b[0m\u001b[1;33m\u001b[0m\u001b[1;33m\u001b[0m\u001b[0m\n",
      "\u001b[1;31mKeyboardInterrupt\u001b[0m: "
     ]
    }
   ],
   "source": [
    "#uruchomienie modelu\n",
    "model.fit(\n",
    "    X_train, y_train,\n",
    "    batch_size=128,\n",
    "    epochs=9,\n",
    "    validation_data=(X_test,y_test),\n",
    "    callbacks=[PlotLossesCallback()]\n",
    ")"
   ]
  },
  {
   "cell_type": "markdown",
   "metadata": {},
   "source": [
    "### BADANIE OPTYMALIZATORÓW"
   ]
  },
  {
   "cell_type": "code",
   "execution_count": null,
   "metadata": {},
   "outputs": [],
   "source": [
    "def arch_04():  #optymalizator Adam\n",
    " \n",
    "  return Sequential([\n",
    "        Conv2D(64, kernel_size=(3, 3), activation='relu',padding='same', input_shape=input_shape),\n",
    "        MaxPool2D(pool_size=(2, 2)),\n",
    "        Dropout(0.25), \n",
    "        \n",
    "        Conv2D(128, kernel_size=(3, 3), activation='relu'),\n",
    "        MaxPool2D(pool_size=(2, 2)),\n",
    "        Dropout(0.25),\n",
    "        \n",
    "        Conv2D(256, kernel_size=(3, 3), activation='relu'),\n",
    "        MaxPool2D(pool_size=(2, 2)),\n",
    "\n",
    "        Flatten(), # spłaszczanie danych, aby połączyć warstwy konwolucyjne z fully connected layers\n",
    "        \n",
    "        Dense(512, activation='relu'),\n",
    "        Dropout(0.5),\n",
    "        Dense(num_classes, activation='softmax')]) \n",
    "\n",
    "model = arch_04()\n",
    "model.compile(loss='categorical_crossentropy',optimizer='adam', metrics=['accuracy'])\n",
    "model.summary()"
   ]
  },
  {
   "cell_type": "code",
   "execution_count": null,
   "metadata": {},
   "outputs": [],
   "source": [
    "#uruchomienie modelu\n",
    "model.fit(\n",
    "    X_train, y_train,\n",
    "    batch_size=128,\n",
    "    epochs=9,\n",
    "    validation_data=(X_test,y_test),\n",
    "    callbacks=[PlotLossesCallback()]\n",
    ")"
   ]
  },
  {
   "cell_type": "code",
   "execution_count": null,
   "metadata": {},
   "outputs": [],
   "source": [
    "def arch_04(): # optymlizator AdaGrad\n",
    " \n",
    "  return Sequential([\n",
    "        Conv2D(64, kernel_size=(3, 3), activation='relu',padding='same', input_shape=input_shape),\n",
    "        MaxPool2D(pool_size=(2, 2)),\n",
    "        Dropout(0.25), \n",
    "        \n",
    "        Conv2D(128, kernel_size=(3, 3), activation='relu'),\n",
    "        MaxPool2D(pool_size=(2, 2)),\n",
    "        Dropout(0.25),\n",
    "        \n",
    "        Conv2D(256, kernel_size=(3, 3), activation='relu'),\n",
    "        MaxPool2D(pool_size=(2, 2)),\n",
    "\n",
    "        Flatten(), # spłaszczanie danych, aby połączyć warstwy konwolucyjne z fully connected layers\n",
    "        \n",
    "        Dense(512, activation='relu'),\n",
    "        Dropout(0.5),\n",
    "        Dense(num_classes, activation='softmax')]) \n",
    "\n",
    "model = arch_04()\n",
    "model.compile(loss='categorical_crossentropy',optimizer='AdaGrad', metrics=['accuracy'])\n",
    "model.summary()"
   ]
  },
  {
   "cell_type": "code",
   "execution_count": null,
   "metadata": {},
   "outputs": [],
   "source": [
    "#uruchomienie modelu\n",
    "model.fit(\n",
    "    X_train, y_train,\n",
    "    batch_size=128,\n",
    "    epochs=9,\n",
    "    validation_data=(X_test,y_test),\n",
    "    callbacks=[PlotLossesCallback()]\n",
    ")"
   ]
  },
  {
   "cell_type": "code",
   "execution_count": null,
   "metadata": {},
   "outputs": [],
   "source": [
    "def arch_04():    #Optymalizator RMSprop\n",
    " \n",
    "  return Sequential([\n",
    "        Conv2D(64, kernel_size=(3, 3), activation='relu',padding='same', input_shape=input_shape),\n",
    "        MaxPool2D(pool_size=(2, 2)),\n",
    "        Dropout(0.25), \n",
    "        \n",
    "        Conv2D(128, kernel_size=(3, 3), activation='relu'),\n",
    "        MaxPool2D(pool_size=(2, 2)),\n",
    "        Dropout(0.25),\n",
    "        \n",
    "        Conv2D(256, kernel_size=(3, 3), activation='relu'),\n",
    "        MaxPool2D(pool_size=(2, 2)),\n",
    "\n",
    "        Flatten(), # spłaszczanie danych, aby połączyć warstwy konwolucyjne z fully connected layers\n",
    "        \n",
    "        Dense(512, activation='relu'),\n",
    "        Dropout(0.5),\n",
    "        Dense(num_classes, activation='softmax')]) \n",
    "\n",
    "model = arch_04()\n",
    "model.compile(loss='categorical_crossentropy',optimizer='RMSprop', metrics=['accuracy'])\n",
    "model.summary()"
   ]
  },
  {
   "cell_type": "code",
   "execution_count": null,
   "metadata": {},
   "outputs": [],
   "source": [
    "#uruchomienie modelu\n",
    "model.fit(\n",
    "    X_train, y_train,\n",
    "    batch_size=128,\n",
    "    epochs=9,\n",
    "    validation_data=(X_test,y_test),\n",
    "    callbacks=[PlotLossesCallback()]\n",
    ")"
   ]
  },
  {
   "cell_type": "code",
   "execution_count": 11,
   "metadata": {},
   "outputs": [
    {
     "name": "stdout",
     "output_type": "stream",
     "text": [
      "WARNING:tensorflow:From C:\\Users\\Maja\\Anaconda3\\lib\\site-packages\\keras\\backend\\tensorflow_backend.py:74: The name tf.get_default_graph is deprecated. Please use tf.compat.v1.get_default_graph instead.\n",
      "\n",
      "WARNING:tensorflow:From C:\\Users\\Maja\\Anaconda3\\lib\\site-packages\\keras\\backend\\tensorflow_backend.py:517: The name tf.placeholder is deprecated. Please use tf.compat.v1.placeholder instead.\n",
      "\n",
      "WARNING:tensorflow:From C:\\Users\\Maja\\Anaconda3\\lib\\site-packages\\keras\\backend\\tensorflow_backend.py:4138: The name tf.random_uniform is deprecated. Please use tf.random.uniform instead.\n",
      "\n",
      "WARNING:tensorflow:From C:\\Users\\Maja\\Anaconda3\\lib\\site-packages\\keras\\backend\\tensorflow_backend.py:3976: The name tf.nn.max_pool is deprecated. Please use tf.nn.max_pool2d instead.\n",
      "\n",
      "WARNING:tensorflow:From C:\\Users\\Maja\\Anaconda3\\lib\\site-packages\\keras\\backend\\tensorflow_backend.py:133: The name tf.placeholder_with_default is deprecated. Please use tf.compat.v1.placeholder_with_default instead.\n",
      "\n",
      "WARNING:tensorflow:From C:\\Users\\Maja\\Anaconda3\\lib\\site-packages\\keras\\backend\\tensorflow_backend.py:3445: calling dropout (from tensorflow.python.ops.nn_ops) with keep_prob is deprecated and will be removed in a future version.\n",
      "Instructions for updating:\n",
      "Please use `rate` instead of `keep_prob`. Rate should be set to `rate = 1 - keep_prob`.\n",
      "WARNING:tensorflow:From C:\\Users\\Maja\\Anaconda3\\lib\\site-packages\\keras\\optimizers.py:790: The name tf.train.Optimizer is deprecated. Please use tf.compat.v1.train.Optimizer instead.\n",
      "\n",
      "WARNING:tensorflow:From C:\\Users\\Maja\\Anaconda3\\lib\\site-packages\\keras\\backend\\tensorflow_backend.py:3295: The name tf.log is deprecated. Please use tf.math.log instead.\n",
      "\n",
      "_________________________________________________________________\n",
      "Layer (type)                 Output Shape              Param #   \n",
      "=================================================================\n",
      "conv2d_1 (Conv2D)            (None, 28, 28, 64)        640       \n",
      "_________________________________________________________________\n",
      "max_pooling2d_1 (MaxPooling2 (None, 14, 14, 64)        0         \n",
      "_________________________________________________________________\n",
      "dropout_1 (Dropout)          (None, 14, 14, 64)        0         \n",
      "_________________________________________________________________\n",
      "conv2d_2 (Conv2D)            (None, 12, 12, 128)       73856     \n",
      "_________________________________________________________________\n",
      "max_pooling2d_2 (MaxPooling2 (None, 6, 6, 128)         0         \n",
      "_________________________________________________________________\n",
      "dropout_2 (Dropout)          (None, 6, 6, 128)         0         \n",
      "_________________________________________________________________\n",
      "conv2d_3 (Conv2D)            (None, 4, 4, 256)         295168    \n",
      "_________________________________________________________________\n",
      "max_pooling2d_3 (MaxPooling2 (None, 2, 2, 256)         0         \n",
      "_________________________________________________________________\n",
      "flatten_1 (Flatten)          (None, 1024)              0         \n",
      "_________________________________________________________________\n",
      "dense_1 (Dense)              (None, 512)               524800    \n",
      "_________________________________________________________________\n",
      "dropout_3 (Dropout)          (None, 512)               0         \n",
      "_________________________________________________________________\n",
      "dense_2 (Dense)              (None, 62)                31806     \n",
      "=================================================================\n",
      "Total params: 926,270\n",
      "Trainable params: 926,270\n",
      "Non-trainable params: 0\n",
      "_________________________________________________________________\n"
     ]
    }
   ],
   "source": [
    "def arch_04():  #optymalizator SGD\n",
    " \n",
    "  return Sequential([\n",
    "        Conv2D(64, kernel_size=(3, 3), activation='relu',padding='same', input_shape=input_shape),\n",
    "        MaxPool2D(pool_size=(2, 2)),\n",
    "        Dropout(0.25), \n",
    "        \n",
    "        Conv2D(128, kernel_size=(3, 3), activation='relu'),\n",
    "        MaxPool2D(pool_size=(2, 2)),\n",
    "        Dropout(0.25),\n",
    "        \n",
    "        Conv2D(256, kernel_size=(3, 3), activation='relu'),\n",
    "        MaxPool2D(pool_size=(2, 2)),\n",
    "\n",
    "        Flatten(), # spłaszczanie danych, aby połączyć warstwy konwolucyjne z fully connected layers\n",
    "        \n",
    "        Dense(512, activation='relu'),\n",
    "        Dropout(0.5),\n",
    "        Dense(num_classes, activation='softmax')]) \n",
    "\n",
    "model = arch_04()\n",
    "model.compile(loss='categorical_crossentropy',optimizer='SGD', metrics=['accuracy'])\n",
    "model.summary()"
   ]
  },
  {
   "cell_type": "code",
   "execution_count": 12,
   "metadata": {},
   "outputs": [
    {
     "data": {
      "image/png": "[encoded data removed]",
      "text/plain": [
       "<Figure size 864x576 with 2 Axes>"
      ]
     },
     "metadata": {
      "needs_background": "light"
     },
     "output_type": "display_data"
    },
    {
     "name": "stdout",
     "output_type": "stream",
     "text": [
      "Log-loss (cost function):\n",
      "training   (min:    0.592, max:    3.726, cur:    0.592)\n",
      "validation (min:    0.472, max:    3.536, cur:    0.472)\n",
      "\n",
      "Accuracy:\n",
      "training   (min:    0.072, max:    0.812, cur:    0.812)\n",
      "validation (min:    0.231, max:    0.844, cur:    0.844)\n"
     ]
    },
    {
     "data": {
      "text/plain": [
       "<keras.callbacks.History at 0x1f65c329f08>"
      ]
     },
     "execution_count": 12,
     "metadata": {},
     "output_type": "execute_result"
    }
   ],
   "source": [
    "#uruchomienie modelu\n",
    "model.fit(\n",
    "    X_train, y_train,\n",
    "    batch_size=128,\n",
    "    epochs=12,\n",
    "    validation_data=(X_test,y_test),\n",
    "    callbacks=[PlotLossesCallback()]\n",
    ")"
   ]
  },
  {
   "cell_type": "code",
   "execution_count": 13,
   "metadata": {},
   "outputs": [],
   "source": [
    "# Badania przeprowadzono osobno dla cyfr i liter\n",
    "X_cyfry = np.load('D:/inzynier/klasy/y_testCyfry.npy')\n",
    "y_cyfry = np.load('D:/inzynier/klasy/X_testCyfry.npy')\n",
    "X_litery = np.load('D:/inzynier/klasy/y_testLitery.npy')\n",
    "y_litery = np.load('D:/inzynier/klasy/X_testLitery.npy')"
   ]
  },
  {
   "cell_type": "code",
   "execution_count": 14,
   "metadata": {},
   "outputs": [
    {
     "name": "stdout",
     "output_type": "stream",
     "text": [
      "img_rows: 28 img_cols: 28\n",
      "X_cyfry.shape: (520, 28, 28, 1)  y_cyfry.shape: (520, 62)\n"
     ]
    }
   ],
   "source": [
    "img_rows, img_cols = X_cyfry.shape[1],X_cyfry.shape[2]\n",
    "print('img_rows:',img_rows, 'img_cols:',img_cols)\n",
    "X_cyfry = X_cyfry.reshape(-1, img_rows, img_cols, 1 ) \n",
    "input_shape = (img_rows, img_cols, 1)\n",
    "if np.max (X_cyfry) > 1: \n",
    "    X_cyfry = X_cyfry / 255\n",
    "if len(y_cyfry.shape)== 1:\n",
    "    num_classes = 62\n",
    "    y_cyfry = to_categorical(y_cyfry, num_classes)\n",
    "print('X_cyfry.shape:',X_cyfry.shape, ' y_cyfry.shape:',y_cyfry.shape)"
   ]
  },
  {
   "cell_type": "code",
   "execution_count": 15,
   "metadata": {},
   "outputs": [
    {
     "name": "stdout",
     "output_type": "stream",
     "text": [
      "img_rows: 28 img_cols: 28\n",
      "X_litery.shape: (641, 28, 28, 1)  y_litery.shape: (641, 62)\n"
     ]
    }
   ],
   "source": [
    "img_rows, img_cols = X_litery.shape[1],X_litery.shape[2]\n",
    "print('img_rows:',img_rows, 'img_cols:',img_cols)\n",
    "X_litery = X_litery.reshape(-1, img_rows, img_cols, 1 ) \n",
    "input_shape = (img_rows, img_cols, 1)\n",
    "if np.max (X_litery) > 1: \n",
    "    X_litery = X_litery / 255\n",
    "if len(y_litery.shape)== 1:\n",
    "    num_classes = 62\n",
    "    y_litery = to_categorical(y_litery, num_classes)\n",
    "print('X_litery.shape:',X_litery.shape, ' y_litery.shape:',y_litery.shape)"
   ]
  },
  {
   "cell_type": "code",
   "execution_count": 17,
   "metadata": {},
   "outputs": [],
   "source": [
    "prediction_list_cyfry = []\n",
    "class_list_cyfry = []\n",
    "#start = time.clock()\n",
    "for i in range(X_cyfry.shape[0]):\n",
    "    prediction_cyfry = model.predict(np.expand_dims(X_cyfry[i], axis=0))\n",
    "    klasa_cyfry=prediction_cyfry.argmax()\n",
    "\n",
    "    prediction_list_cyfry.append(prediction_cyfry)\n",
    "    class_list_cyfry.append(klasa_cyfry)\n",
    "#stop = time.clock()"
   ]
  },
  {
   "cell_type": "code",
   "execution_count": 18,
   "metadata": {},
   "outputs": [],
   "source": [
    "prediction_list_litery = []\n",
    "class_list_litery = []\n",
    "#start = time.clock()\n",
    "for i in range(X_litery.shape[0]):\n",
    "    prediction_litery = model.predict(np.expand_dims(X_litery[i], axis=0))\n",
    "    klasa_litery=prediction_litery.argmax()\n",
    "\n",
    "    prediction_list_litery.append(prediction_litery)\n",
    "    class_list_litery.append(klasa_litery)\n",
    "#stop = time.clock()"
   ]
  },
  {
   "cell_type": "code",
   "execution_count": 19,
   "metadata": {},
   "outputs": [
    {
     "data": {
      "text/plain": [
       "((520,), (520,))"
      ]
     },
     "execution_count": 19,
     "metadata": {},
     "output_type": "execute_result"
    }
   ],
   "source": [
    "y_pred_cyfry=np.array(class_list_cyfry)\n",
    "y_pred_litery=np.array(class_list_litery)\n",
    "(y_pred_cyfry.shape, y_pred_cyfry.shape)"
   ]
  },
  {
   "cell_type": "code",
   "execution_count": 21,
   "metadata": {},
   "outputs": [
    {
     "data": {
      "text/plain": [
       "array([39, 39,  2,  4,  4, 39, 39, 39, 39,  9,  0,  0,  0, 39,  0, 39, 39,\n",
       "       36,  4,  4], dtype=int64)"
      ]
     },
     "execution_count": 21,
     "metadata": {},
     "output_type": "execute_result"
    }
   ],
   "source": [
    "y_pred_litery[150:170]"
   ]
  },
  {
   "cell_type": "code",
   "execution_count": 25,
   "metadata": {},
   "outputs": [],
   "source": [
    "from sklearn.metrics import accuracy_score\n",
    "from sklearn.metrics import precision_score\n",
    "from sklearn.metrics import recall_score\n",
    "from sklearn.metrics import f1_score\n",
    "from sklearn.metrics import cohen_kappa_score\n",
    "from sklearn.metrics import roc_auc_score\n",
    "from sklearn.metrics import confusion_matrix"
   ]
  },
  {
   "cell_type": "code",
   "execution_count": 27,
   "metadata": {},
   "outputs": [],
   "source": [
    "if len(y_pred_cyfry.shape)== 1:     # realizacja pętli: jeżeli długość wektora y_pred jest równa 1 to:  skategoryzuj wektory wg numeru klasy\n",
    "    num_classes = 62 \n",
    "    y_pred_cyfry = to_categorical(y_pred_cyfry, num_classes)"
   ]
  },
  {
   "cell_type": "code",
   "execution_count": 30,
   "metadata": {},
   "outputs": [
    {
     "name": "stdout",
     "output_type": "stream",
     "text": [
      "F1 0.820830503984328\n",
      "precyzja 0.8688971821186235\n",
      "acc 0.7942307692307692\n",
      "recall 0.7942307692307692\n"
     ]
    },
    {
     "name": "stderr",
     "output_type": "stream",
     "text": [
      "C:\\Users\\Maja\\Anaconda3\\lib\\site-packages\\sklearn\\metrics\\classification.py:1439: UndefinedMetricWarning: Recall is ill-defined and being set to 0.0 in labels with no true samples.\n",
      "  'recall', 'true', average, warn_for)\n"
     ]
    }
   ],
   "source": [
    "print('F1',f1_score(y_cyfry, y_pred_cyfry, average = 'weighted'))   #obliczanie błędów: F1, precyzja, acc, recall\n",
    "print('precyzja',precision_score(y_cyfry,y_pred_cyfry, average='weighted'))\n",
    "print('acc',accuracy_score(y_cyfry, y_pred_cyfry))\n",
    "print('recall', recall_score(y_cyfry, y_pred_cyfry, average='weighted'))"
   ]
  },
  {
   "cell_type": "code",
   "execution_count": 31,
   "metadata": {},
   "outputs": [],
   "source": [
    "if len(y_pred_litery.shape)== 1:     # realizacja pętli: jeżeli długość wektora y_pred jest równa 1 to:  skategoryzuj wektory wg numeru klasy\n",
    "    num_classes = 62 \n",
    "    y_pred_litery = to_categorical(y_pred_litery, num_classes)"
   ]
  },
  {
   "cell_type": "code",
   "execution_count": 32,
   "metadata": {},
   "outputs": [
    {
     "name": "stdout",
     "output_type": "stream",
     "text": [
      "F1 0.34122225737406875\n",
      "precyzja 0.633244217825385\n",
      "acc 0.2839313572542902\n",
      "recall 0.2839313572542902\n"
     ]
    }
   ],
   "source": [
    "print('F1',f1_score(y_litery, y_pred_litery, average = 'weighted'))   #obliczanie błędów: F1, precyzja, acc, recall\n",
    "print('precyzja',precision_score(y_litery,y_pred_litery, average='weighted'))\n",
    "print('acc',accuracy_score(y_litery, y_pred_litery))\n",
    "print('recall', recall_score(y_litery, y_pred_litery, average='weighted'))"
   ]
  },
  {
   "cell_type": "code",
   "execution_count": null,
   "metadata": {},
   "outputs": [],
   "source": []
  }
 ],
 "metadata": {
  "kernelspec": {
   "display_name": "Python 3",
   "language": "python",
   "name": "python3"
  },
  "language_info": {
   "codemirror_mode": {
    "name": "ipython",
    "version": 3
   },
   "file_extension": ".py",
   "mimetype": "text/x-python",
   "name": "python",
   "nbconvert_exporter": "python",
   "pygments_lexer": "ipython3",
   "version": "3.7.4"
  }
 },
 "nbformat": 4,
 "nbformat_minor": 2
}
